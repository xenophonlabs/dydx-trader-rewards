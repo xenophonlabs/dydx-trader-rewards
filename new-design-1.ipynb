{
 "cells": [
  {
   "cell_type": "markdown",
   "id": "a457d8c6",
   "metadata": {},
   "source": [
    "# New Design\n",
    "A new design for dYdX rewards that incentivizes traders to trade throughout the epoch, rather than just at the end."
   ]
  },
  {
   "cell_type": "code",
   "execution_count": 18,
   "id": "70face50",
   "metadata": {},
   "outputs": [],
   "source": [
    "!pip3 install --q scipy matplotlib"
   ]
  },
  {
   "cell_type": "code",
   "execution_count": 66,
   "id": "8c187f98",
   "metadata": {},
   "outputs": [],
   "source": [
    "import scipy.integrate as integrate\n",
    "import math"
   ]
  },
  {
   "cell_type": "code",
   "execution_count": 73,
   "id": "7a0f226d",
   "metadata": {},
   "outputs": [],
   "source": [
    "# hard coded values\n",
    "R = 3_835_616 # total DYDX reward at end of each epoch\n",
    "T = 24 * 28   # number of hours in an epoch\n",
    "T_R = T + 8 * 24 # number of hours until rewards are received\n",
    "p = lambda t: 6.5 # price, as a function of time; e.g. p(2.1) would mean 2.1 after the beginning of the epoch\n",
    "r_ann = 0.02 # risk free annual rate of return\n",
    "\n",
    "\n",
    "# derived values\n",
    "r_hour = (1+r_ann)**(1/(24*365)) - 1 # risk free hourly rate of return\n",
    "\n",
    "N_prime = lambda t: R * p(t) / T # the derivative of the expected nominal payout at time t\n",
    "N_ab = lambda a, b: integrate.quad(N_prime, a, b)[0] # expected nominal payout between time a and time b\n",
    "N = lambda t: N_ab(0, t) # expected nominal payout by time t\n",
    "\n",
    "D_prime = lambda t: N_prime(t) * (1 + r_hour)**(-(T_R - t)) # the derivative of the expected real payout at time t; it's discounted for risk-free rate\n",
    "D_ab = lambda a, b: integrate.quad(D_prime, a, b)[0] # expected real payout between time a and time b; it's discounted for the risk-free rate\n",
    "D = lambda t: D_ab(0, t) # expected real payout by time t; it's discounted for the risk-free rate"
   ]
  },
  {
   "cell_type": "code",
   "execution_count": 74,
   "id": "b24cb883",
   "metadata": {},
   "outputs": [
    {
     "data": {
      "image/png": "[encoded data removed]",
      "text/plain": [
       "<Figure size 432x288 with 1 Axes>"
      ]
     },
     "metadata": {
      "needs_background": "light"
     },
     "output_type": "display_data"
    }
   ],
   "source": [
    "import matplotlib.pyplot as plt\n",
    "\n",
    "pts = []\n",
    "for hour in range(T):\n",
    "    a = D(hour)\n",
    "    pts.append(a)\n",
    "plt.plot(pts)\n",
    "plt.title(\"Expected Reward Value Allocated vs. Time\")\n",
    "plt.ylabel(\"Rewards Distributed ($)\")\n",
    "plt.xlabel(\"Time (hours)\");"
   ]
  },
  {
   "cell_type": "markdown",
   "id": "2598311c",
   "metadata": {},
   "source": [
    "This gives the expected amount of reward _value_ allocated as the epoch progresses. Keep in mind that allocated does _not_ mean that it is physically given to participants; instead, this graph represents the _expectation_ of market participants on how much of the token value has been earmarked at a particular time via the mechanism, even though none of those participants (and, in fact, nobody at all) truly knows how much of the protocol value has been allocated by that time."
   ]
  },
  {
   "cell_type": "markdown",
   "id": "0bc1f101",
   "metadata": {},
   "source": [
    "Now let's take on the following assumptions: **In any time interval in the epoch, all traders are rational and seek only to maximize their profits (in current real terms) from the trading mechanism. Current real terms just means that they are not performing prediction on the DYDX price.**\n",
    "\n",
    "This assumption, combined with the jupyter notebook linked, means that traders converge in real-time to an optimal fee payment equilibrium (`end_of_epoch_sim.ipynb`). No trader has an incentive to deviate from this, and all traders get trading rewards profits! This equilibrium can be found via simulation of equlibrium-seeking behavior and optimization :).\n",
    "\n",
    "<!-- This assumption is equivalent to rejecting the statement \"traders will not pay past profit maximiz and they will not pay fewer in fees than the amount that they expect to see in rewards\". The former part of this statement seems obvious, since if a trader wants to buy DYDX, they can do so via an exchange rather than through this roundabout rewards mechanism. The latter part of this statement is harder to agree with: why would a trader pay up to the amount in fees that they would receive in rewards? -->"
   ]
  },
  {
   "cell_type": "code",
   "execution_count": 75,
   "id": "09420d4c",
   "metadata": {},
   "outputs": [],
   "source": [
    "# TODO: copy in code that uses open interest (and staking!) data to compute the optimal fees paid.\n",
    "# My guess is that the addition of staking actually does not make this any more difficulat, but instead\n",
    "# of finding a open-interest:fee ratio, we'll just need to find a open-interest-and-staking-combo-score:fee\n",
    "# ratio."
   ]
  }
 ],
 "metadata": {
  "kernelspec": {
   "display_name": "Python 3 (ipykernel)",
   "language": "python",
   "name": "python3"
  },
  "language_info": {
   "codemirror_mode": {
    "name": "ipython",
    "version": 3
   },
   "file_extension": ".py",
   "mimetype": "text/x-python",
   "name": "python",
   "nbconvert_exporter": "python",
   "pygments_lexer": "ipython3",
   "version": "3.9.3"
  }
 },
 "nbformat": 4,
 "nbformat_minor": 5
}
