{
 "cells": [
  {
   "cell_type": "markdown",
   "metadata": {},
   "source": [
    "# Finding Nash Equilibrium without staked DYDX\n",
    "\n",
    "This sample notebook runs a variation of Newton's method on DYDX rewards data to find the equilibrirum fees vector for a particular epoch, without taking staked DYDX into account."
   ]
  },
  {
   "cell_type": "code",
   "execution_count": null,
   "metadata": {},
   "outputs": [],
   "source": [
    "import numpy as np\n",
    "import matplotlib.pyplot as plt\n",
    "\n",
    "from utils import *"
   ]
  },
  {
   "cell_type": "code",
   "execution_count": null,
   "metadata": {},
   "outputs": [],
   "source": [
    "R = 3_835_616 \n",
    "p = 10\n",
    "alpha = .01\n",
    "open_interest = 150_000_000"
   ]
  },
  {
   "cell_type": "code",
   "execution_count": null,
   "metadata": {},
   "outputs": [],
   "source": [
    "results = dict()\n",
    "\n",
    "for trial in range(5):\n",
    "    d_mkt, f_mkt = find_equilibrium(open_interest, n=1000, R=R, p=p, alpha=alpha, num_whales=10, whale_alpha=100)\n",
    "    results[trial] = sorted(list(zip(d_mkt, f_mkt)), key=lambda x : x[1]) "
   ]
  },
  {
   "cell_type": "code",
   "execution_count": null,
   "id": "241c39b5",
   "metadata": {},
   "outputs": [],
   "source": [
    "for k,v in results.items():\n",
    "    n = len(v)\n",
    "    plt.plot(*zip(*v), label=f\"n={n}, D={round(sum(list(zip(*v))[0]))}\")\n",
    "plt.legend()\n",
    "plt.xlabel(\"Open Interest\")\n",
    "plt.ylabel(\"Fees\")\n",
    "plt.title(\"Distribution of Fees to Open Interest for varying n\")\n",
    "plt.show() "
   ]
  },
  {
   "cell_type": "code",
   "execution_count": null,
   "id": "c78d9568",
   "metadata": {},
   "outputs": [],
   "source": [
    "# The amount paid in fees is always the same?\n",
    "for k, v in results.items():\n",
    "    f_mkt = np.array([x[1] for x in v])\n",
    "    d_mkt = np.array([x[0] for x in v])\n",
    "    plt.plot(sorted(d_mkt), label=k)\n",
    "    print(\"Biggest whale share: \", max(d_mkt)/sum(d_mkt))\n",
    "plt.yscale('log')\n",
    "plt.legend()\n",
    "plt.xlabel(\"Trader\")\n",
    "plt.ylabel(\"Open Interest\")\n",
    "plt.title(\"Distribution of Open Interest\")\n",
    "plt.show()"
   ]
  }
 ],
 "metadata": {
  "kernelspec": {
   "display_name": "Python 3",
   "language": "python",
   "name": "python3"
  },
  "language_info": {
   "codemirror_mode": {
    "name": "ipython",
    "version": 3
   },
   "file_extension": ".py",
   "mimetype": "text/x-python",
   "name": "python",
   "nbconvert_exporter": "python",
   "pygments_lexer": "ipython3",
   "version": "3.7.5"
  }
 },
 "nbformat": 4,
 "nbformat_minor": 5
}
