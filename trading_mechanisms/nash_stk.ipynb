{
 "cells": [
  {
   "cell_type": "markdown",
   "metadata": {},
   "source": [
    "# End of Epoch Simulations\n",
    "\n",
    "Here are some simulations for how the end of the epoch will go. Here are some basic assumptions present here.\n",
    "1. All active traders are a part of this competition, i.e. they are going to pay an optimal amount in fees for rewards.\n",
    "2. Traders can be modeled as updating their expectation for the overall market summed trader score by using their old estimate of the total score and performing a learning update that incorporates a new estimate with their old estimate. In other words, we can model each participant as updating their expectations in parallel as the epoch draws to a close.\n",
    "3. The overal market participants' distribution of open interest follows an exponential distribution. This is an approximation, and in fact exponential distributions don't have quite fat enough of a tail in order to work here.\n",
    "4. Rational agents have access to infinite money. That is, they may adjust their fee-paying schedule to spend more than the amount they have in their collateral account. Practically, this is probably not the case. "
   ]
  },
  {
   "cell_type": "code",
   "execution_count": 1,
   "metadata": {},
   "outputs": [],
   "source": [
    "import numpy as np\n",
    "import matplotlib.pyplot as plt\n",
    "import random\n",
    "import sympy as sp"
   ]
  },
  {
   "cell_type": "code",
   "execution_count": 2,
   "metadata": {},
   "outputs": [],
   "source": [
    "# amount of DyDx given out as a reward\n",
    "R = 3_835_616 \n",
    "\n",
    "# price of DyDx\n",
    "p = 20.6\n",
    "\n",
    "# learning rate; set this to a small number so that we can converge to a solution for f_opt_mkt\n",
    "# the particular value doesn't matter too much\n",
    "alpha = .01\n",
    "\n",
    "def cur_mkt_score(ds, fs, gs):\n",
    "    \"\"\"\n",
    "    Given a bunch of participants' open-interests and fees,\n",
    "    calculate the total current market score.\n",
    "    \"\"\"\n",
    "    total = 0\n",
    "    for d, f, g in zip(ds, fs, gs):\n",
    "        total += (d**.28) * (f**.67) * (g**0.05)\n",
    "    return total\n",
    "\n",
    "def dist(v1, v2):\n",
    "    \"\"\"\n",
    "    Root-mean-squared-error between vector 1 and vector 2\n",
    "    \"\"\"\n",
    "    return (sum([(v1[i]-v2[i])**2 for i in range(len(v1))])/len(v1))**(1/2)\n"
   ]
  },
  {
   "cell_type": "code",
   "execution_count": 143,
   "id": "04ca80bf",
   "metadata": {},
   "outputs": [],
   "source": [
    "f = sp.Symbol('f')\n",
    "d = sp.Symbol('d')\n",
    "T = sp.Symbol('T')\n",
    "g = sp.Symbol('g')\n",
    "\n",
    "profit_below = R * p * d**0.28 * f**0.67 * 10**0.05 / (T + d**0.28 * f**0.67 * 10**0.05) - f # Sympy diff() does not support Max() in lambdified functions\n",
    "profit_above = R * p * d**0.28 * f**0.67 * g**0.05 / (T + d**0.28 * f**0.67 * g**0.05) - f\n",
    "\n",
    "profit_below_prime = sp.diff(profit_below, f)\n",
    "profit_below_prime_prime = sp.diff(profit_below_prime, f)\n",
    "\n",
    "profit_below_prime_fast = sp.lambdify([f, d, g, T], profit_below_prime, \"numpy\")\n",
    "profit_below_prime_prime_fast = sp.lambdify([f, d, g, T], profit_below_prime_prime, \"numpy\")\n",
    "\n",
    "profit_above_prime = sp.diff(profit_above, f)\n",
    "profit_above_prime_prime = sp.diff(profit_above_prime, f)\n",
    "\n",
    "profit_above_prime_fast = sp.lambdify([f, d, g, T], profit_above_prime, \"numpy\")\n",
    "profit_above_prime_prime_fast = sp.lambdify([f, d, g, T], profit_above_prime_prime, \"numpy\")"
   ]
  },
  {
   "cell_type": "code",
   "execution_count": 172,
   "id": "08e08d9c",
   "metadata": {},
   "outputs": [],
   "source": [
    "def get_d_mkt(D, n):\n",
    "    whales = np.array(range(500, 600, 10))\n",
    "    d_mkt = np.array(np.random.dirichlet(np.append(whales, np.ones(n-10)), 1).ravel() * D) \n",
    "    return d_mkt\n",
    "\n",
    "def get_g_mkt(G, n):\n",
    "    whales = np.array(range(10000, 10100, 10))\n",
    "    g_mkt = np.array(np.random.dirichlet(np.append(whales, np.ones(n-10)), 1).ravel() * G) \n",
    "    return g_mkt\n",
    "    \n",
    "def find_equilibrium(D, G=1_000_000, n=None):\n",
    "    \"\"\"\n",
    "    Warning: If leaning rate is too small or fees vector is initialized at very high values, \n",
    "    Newton's method can update fees as negative values. This will crash the algorithm. \n",
    "    To avoid this, lower the learning rate or instantiate the fees vector at smaller amounts.\n",
    "    \"\"\"\n",
    "    if not n:\n",
    "        n = random.choice(range(1000, 5000))\n",
    "    d_mkt = get_d_mkt(D, n)\n",
    "    g_mkt = get_g_mkt(G, n)\n",
    "\n",
    "    # d_mkt = np.random.exponential(scale=(D/n), size=n)\n",
    "    f_mkt = np.random.rand(n)*((1/25) * D)/n\n",
    "\n",
    "    zipped = zip(f_mkt, d_mkt, g_mkt)\n",
    "    below = np.array([x for x in zipped if x[2] <= 10])\n",
    "    above = np.array([x for x in zipped if x[2] > 10])\n",
    "    \n",
    "    # simulate_market_optimal_fee_discovery, running until convergence\n",
    "    rmses = [] # the distances between fees on successive iterations of the algorithm; should tend to 0 as f_mkt convergest\n",
    "    while (rmses==[]) or (rmses[-1] > 10**-10):\n",
    "        mkt_score = cur_mkt_score(d_mkt, f_mkt, g_mkt)\n",
    "        T_mkt = mkt_score - f_mkt**0.67 * d_mkt**0.28 * g_mkt ** 0.05\n",
    "        print(below)\n",
    "        d1_above = profit_above_prime_fast(*above, T_mkt)\n",
    "        d1_below = profit_below_prime_fast(*below, T_mkt)\n",
    "        \n",
    "        d2_above = profit_above_prime_prime_fast(*above, T_mkt)\n",
    "        d2_below = profit_below_prime_prime_fast(*below, T_mkt)\n",
    "\n",
    "        d1 = np.append(d1_below, d1_above)\n",
    "        d2 = np.append(d2_below, d2_above)\n",
    "\n",
    "        unzipped = np.append(below, above)\n",
    "        unzipped = list(zip(*unzipped))\n",
    "\n",
    "        f_mkt, d_mkt, g_mkt = unzipped\n",
    "\n",
    "        new_f_mkt = f_mkt - alpha * d1 / d2\n",
    "        rmses.append(dist(new_f_mkt, f_mkt))\n",
    "        f_mkt = new_f_mkt\n",
    "    \n",
    "    return d_mkt, f_mkt, g_mkt"
   ]
  },
  {
   "cell_type": "code",
   "execution_count": 173,
   "metadata": {},
   "outputs": [
    {
     "name": "stdout",
     "output_type": "stream",
     "text": [
      "0\n"
     ]
    },
    {
     "ename": "ValueError",
     "evalue": "operands could not be broadcast together with shapes (4288,) (4292,) ",
     "output_type": "error",
     "traceback": [
      "\u001b[0;31m---------------------------------------------------------------------------\u001b[0m",
      "\u001b[0;31mValueError\u001b[0m                                Traceback (most recent call last)",
      "\u001b[0;32m<ipython-input-173-7e088ffae0e3>\u001b[0m in \u001b[0;36m<module>\u001b[0;34m()\u001b[0m\n\u001b[1;32m      4\u001b[0m \u001b[0;32mfor\u001b[0m \u001b[0mtrial\u001b[0m \u001b[0;32min\u001b[0m \u001b[0mrange\u001b[0m\u001b[0;34m(\u001b[0m\u001b[0;36m10\u001b[0m\u001b[0;34m)\u001b[0m\u001b[0;34m:\u001b[0m\u001b[0;34m\u001b[0m\u001b[0m\n\u001b[1;32m      5\u001b[0m     \u001b[0mprint\u001b[0m\u001b[0;34m(\u001b[0m\u001b[0mtrial\u001b[0m\u001b[0;34m)\u001b[0m\u001b[0;34m\u001b[0m\u001b[0m\n\u001b[0;32m----> 6\u001b[0;31m     \u001b[0md_mkt\u001b[0m\u001b[0;34m,\u001b[0m \u001b[0mf_mkt\u001b[0m\u001b[0;34m,\u001b[0m \u001b[0mg_mkt\u001b[0m \u001b[0;34m=\u001b[0m \u001b[0mfind_equilibrium\u001b[0m\u001b[0;34m(\u001b[0m\u001b[0mopen_interest\u001b[0m\u001b[0;34m,\u001b[0m \u001b[0mG\u001b[0m\u001b[0;34m=\u001b[0m\u001b[0;36m5000\u001b[0m\u001b[0;34m)\u001b[0m\u001b[0;34m\u001b[0m\u001b[0m\n\u001b[0m\u001b[1;32m      7\u001b[0m     \u001b[0;32mif\u001b[0m \u001b[0;32mnot\u001b[0m \u001b[0mnp\u001b[0m\u001b[0;34m.\u001b[0m\u001b[0misnan\u001b[0m\u001b[0;34m(\u001b[0m\u001b[0mf_mkt\u001b[0m\u001b[0;34m)\u001b[0m\u001b[0;34m.\u001b[0m\u001b[0many\u001b[0m\u001b[0;34m(\u001b[0m\u001b[0;34m)\u001b[0m\u001b[0;34m:\u001b[0m\u001b[0;34m\u001b[0m\u001b[0m\n\u001b[1;32m      8\u001b[0m         \u001b[0mtmp\u001b[0m\u001b[0;34m[\u001b[0m\u001b[0mtrial\u001b[0m\u001b[0;34m]\u001b[0m \u001b[0;34m=\u001b[0m \u001b[0msorted\u001b[0m\u001b[0;34m(\u001b[0m\u001b[0mlist\u001b[0m\u001b[0;34m(\u001b[0m\u001b[0mzip\u001b[0m\u001b[0;34m(\u001b[0m\u001b[0md_mkt\u001b[0m\u001b[0;34m,\u001b[0m \u001b[0mg_mkt\u001b[0m\u001b[0;34m,\u001b[0m \u001b[0mf_mkt\u001b[0m\u001b[0;34m)\u001b[0m\u001b[0;34m)\u001b[0m\u001b[0;34m,\u001b[0m \u001b[0mkey\u001b[0m\u001b[0;34m=\u001b[0m\u001b[0;32mlambda\u001b[0m \u001b[0mx\u001b[0m \u001b[0;34m:\u001b[0m \u001b[0mx\u001b[0m\u001b[0;34m[\u001b[0m\u001b[0;36m1\u001b[0m\u001b[0;34m]\u001b[0m\u001b[0;34m)\u001b[0m\u001b[0;34m\u001b[0m\u001b[0m\n",
      "\u001b[0;32m<ipython-input-172-bb255cf0e425>\u001b[0m in \u001b[0;36mfind_equilibrium\u001b[0;34m(D, G, n)\u001b[0m\n\u001b[1;32m     21\u001b[0m     \u001b[0;32mwhile\u001b[0m \u001b[0;34m(\u001b[0m\u001b[0mrmses\u001b[0m\u001b[0;34m==\u001b[0m\u001b[0;34m[\u001b[0m\u001b[0;34m]\u001b[0m\u001b[0;34m)\u001b[0m \u001b[0;32mor\u001b[0m \u001b[0;34m(\u001b[0m\u001b[0mrmses\u001b[0m\u001b[0;34m[\u001b[0m\u001b[0;34m-\u001b[0m\u001b[0;36m1\u001b[0m\u001b[0;34m]\u001b[0m \u001b[0;34m>\u001b[0m \u001b[0;36m10\u001b[0m\u001b[0;34m**\u001b[0m\u001b[0;34m-\u001b[0m\u001b[0;36m10\u001b[0m\u001b[0;34m)\u001b[0m\u001b[0;34m:\u001b[0m\u001b[0;34m\u001b[0m\u001b[0m\n\u001b[1;32m     22\u001b[0m         \u001b[0mmkt_score\u001b[0m \u001b[0;34m=\u001b[0m \u001b[0mcur_mkt_score\u001b[0m\u001b[0;34m(\u001b[0m\u001b[0md_mkt\u001b[0m\u001b[0;34m,\u001b[0m \u001b[0mf_mkt\u001b[0m\u001b[0;34m,\u001b[0m \u001b[0mg_mkt\u001b[0m\u001b[0;34m)\u001b[0m\u001b[0;34m\u001b[0m\u001b[0m\n\u001b[0;32m---> 23\u001b[0;31m         \u001b[0mT_mkt\u001b[0m \u001b[0;34m=\u001b[0m \u001b[0mmkt_score\u001b[0m \u001b[0;34m-\u001b[0m \u001b[0mf_mkt\u001b[0m\u001b[0;34m**\u001b[0m\u001b[0;36m0.67\u001b[0m \u001b[0;34m*\u001b[0m \u001b[0md_mkt\u001b[0m\u001b[0;34m**\u001b[0m\u001b[0;36m0.28\u001b[0m \u001b[0;34m*\u001b[0m \u001b[0mg_mkt\u001b[0m \u001b[0;34m**\u001b[0m \u001b[0;36m0.05\u001b[0m\u001b[0;34m\u001b[0m\u001b[0m\n\u001b[0m\u001b[1;32m     24\u001b[0m         \u001b[0mprint\u001b[0m\u001b[0;34m(\u001b[0m\u001b[0mbelow\u001b[0m\u001b[0;34m)\u001b[0m\u001b[0;34m\u001b[0m\u001b[0m\n\u001b[1;32m     25\u001b[0m         \u001b[0md1_above\u001b[0m \u001b[0;34m=\u001b[0m \u001b[0mprofit_above_prime_fast\u001b[0m\u001b[0;34m(\u001b[0m\u001b[0;34m*\u001b[0m\u001b[0mabove\u001b[0m\u001b[0;34m,\u001b[0m \u001b[0mT_mkt\u001b[0m\u001b[0;34m)\u001b[0m\u001b[0;34m\u001b[0m\u001b[0m\n",
      "\u001b[0;31mValueError\u001b[0m: operands could not be broadcast together with shapes (4288,) (4292,) "
     ]
    }
   ],
   "source": [
    "open_interest = 1_400_000_000\n",
    "results = dict()\n",
    "tmp = dict()\n",
    "for trial in range(10):\n",
    "    print(trial)\n",
    "    d_mkt, f_mkt, g_mkt = find_equilibrium(open_interest, G=5000)\n",
    "    if not np.isnan(f_mkt).any():\n",
    "        tmp[trial] = sorted(list(zip(d_mkt, g_mkt, f_mkt)), key=lambda x : x[1]) \n",
    "        results[trial] = sorted(list(zip(d_mkt**0.28 * g_mkt**0.05, f_mkt**0.33)), key=lambda x : x[1]) \n",
    "\n",
    "# for G in [10_000, 50_000, 250_000, 1_250_000, 6_000_000, 30_000_000, 150_000_000]:\n",
    "#     print(G)\n",
    "#     d_mkt, f_mkt, g_mkt = find_equilibrium(open_interest, G=G, n=5000)\n",
    "#     if not np.isnan(f_mkt).any():\n",
    "#         tmp[G] = sorted(list(zip(d_mkt, g_mkt, f_mkt)), key=lambda x : x[1]) \n",
    "#         results[G] = sorted(list(zip(d_mkt**0.28 * g_mkt**0.05, f_mkt**0.33)), key=lambda x : x[1]) "
   ]
  },
  {
   "cell_type": "code",
   "execution_count": null,
   "id": "86edc93a",
   "metadata": {},
   "outputs": [
    {
     "data": {
      "text/plain": [
       "{0: (0.5702486496001925, 0.5469285668087245)}"
      ]
     },
     "execution_count": 89,
     "metadata": {},
     "output_type": "execute_result"
    }
   ],
   "source": [
    "ratios = dict()\n",
    "for k, v in tmp.items():\n",
    "    n = len(v)\n",
    "    ratio = sum([x[2]**0.33/(x[0]**0.28*x[1]**0.05) for x in v]) / n\n",
    "    expected = (0.67 * R * p)**(0.33) / (sum([x[0] for x in v])**0.28 * sum([x[1] for x in v])**0.05)\n",
    "    ratios[k] = (ratio, expected)\n",
    "\n",
    "{key:ratios[key] for key in sorted(ratios.keys())}"
   ]
  },
  {
   "cell_type": "code",
   "execution_count": 90,
   "id": "241c39b5",
   "metadata": {},
   "outputs": [
    {
     "data": {
      "image/png": "[encoded data removed]",
      "text/plain": [
       "<Figure size 576x432 with 1 Axes>"
      ]
     },
     "metadata": {},
     "output_type": "display_data"
    }
   ],
   "source": [
    "plt.figure(figsize=(8, 6))\n",
    "for k,v in results.items():\n",
    "    n = len(v)\n",
    "    plt.plot(*zip(*v), label=f\"n={n}, G={sum([x[1] for x in tmp[k]])}\")\n",
    "plt.legend()\n",
    "plt.xlabel(\"d_k^0.28 * g_k^0.05\")\n",
    "plt.ylabel(\"f_k^0.33\")\n",
    "plt.title(\"Distribution of Fees to Open Interest for varying G\")\n",
    "# plt.savefig(\"fees_distribution_varying_G.png\")\n",
    "plt.show() # Illustration of how there is a steady state equilibrium, but it is different for different total open interests. I just can't figure out how to find it."
   ]
  },
  {
   "cell_type": "code",
   "execution_count": 69,
   "id": "0eb2afce",
   "metadata": {},
   "outputs": [],
   "source": [
    "# Proof this actually did solve the problem\n",
    "for k, v in results.items():\n",
    "    f_mkt = np.array([x[1] for x in v])\n",
    "    d_mkt = np.array([x[0] for x in v])\n",
    "    mkt_score = cur_mkt_score(d_mkt, f_mkt)\n",
    "    T_mkt = mkt_score - f_mkt**0.7 * d_mkt**0.3\n",
    "    err = profit_prime_fast(f_mkt, d_mkt, T_mkt) # Verify first derivative is 0 at equilibrium for all participants\n",
    "    if not np.all((err <= 10e-2)):\n",
    "        raise Exception(\"Newton's method did not find an equilibrium.\")"
   ]
  },
  {
   "cell_type": "code",
   "execution_count": 20,
   "id": "4dae1993",
   "metadata": {},
   "outputs": [
    {
     "name": "stdout",
     "output_type": "stream",
     "text": [
      "55296717.83607819\n",
      "55261466.42833472\n",
      "55287785.79417184\n",
      "55271533.077852674\n",
      "55297554.0622152\n",
      "55291209.83051242\n",
      "55276460.14237332\n",
      "55295057.6482441\n",
      "55296394.84738844\n"
     ]
    }
   ],
   "source": [
    "# The amount paid in fees is always the same?\n",
    "for k, v in results.items():\n",
    "    f_mkt = np.array([x[1] for x in v])\n",
    "    print(sum(f_mkt))"
   ]
  }
 ],
 "metadata": {
  "kernelspec": {
   "display_name": "Python 3",
   "language": "python",
   "name": "python3"
  },
  "language_info": {
   "codemirror_mode": {
    "name": "ipython",
    "version": 3
   },
   "file_extension": ".py",
   "mimetype": "text/x-python",
   "name": "python",
   "nbconvert_exporter": "python",
   "pygments_lexer": "ipython3",
   "version": "3.6.5"
  }
 },
 "nbformat": 4,
 "nbformat_minor": 5
}
