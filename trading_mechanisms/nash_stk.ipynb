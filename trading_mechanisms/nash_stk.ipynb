{
 "cells": [
  {
   "cell_type": "markdown",
   "metadata": {},
   "source": [
    "# Finding Nash Equilibrium with staked DYDX\n",
    "\n",
    "This sample notebook runs a variation of Newton's method on DYDX rewards data to find the equilibrirum fees vector for a particular epoch, taking staked DYDX into account."
   ]
  },
  {
   "cell_type": "code",
   "execution_count": null,
   "metadata": {},
   "outputs": [],
   "source": [
    "import numpy as np\n",
    "import matplotlib.pyplot as plt\n",
    "\n",
    "from utils import *"
   ]
  },
  {
   "cell_type": "code",
   "execution_count": null,
   "metadata": {},
   "outputs": [],
   "source": [
    "R = 3_835_616 \n",
    "alpha = .01\n",
    "open_interest = 150_000_000"
   ]
  },
  {
   "cell_type": "code",
   "execution_count": null,
   "metadata": {},
   "outputs": [],
   "source": [
    "results = dict()\n",
    "slope = dict()\n",
    "\n",
    "for trial in range(5):\n",
    "    d_mkt, f_mkt, g_mkt = find_equilibrium_stk(open_interest, n=1000, G=5000, R=R, p=20, alpha=alpha, num_whales=1, whale_alpha=10)\n",
    "    results[trial] = sorted(list(zip(d_mkt, g_mkt, f_mkt)), key=lambda x : x[2]) \n",
    "    slope[trial] = sorted(list(zip(d_mkt**0.28 * g_mkt**0.05, f_mkt**0.33)), key=lambda x : x[1]) "
   ]
  },
  {
   "cell_type": "code",
   "execution_count": null,
   "id": "5cdd1672",
   "metadata": {},
   "outputs": [],
   "source": [
    "for trial in range(5):\n",
    "    plt.scatter(range(1000), [x[2]/x[0] for x in results[trial]])"
   ]
  }
 ],
 "metadata": {
  "kernelspec": {
   "display_name": "Python 3",
   "language": "python",
   "name": "python3"
  },
  "language_info": {
   "codemirror_mode": {
    "name": "ipython",
    "version": 3
   },
   "file_extension": ".py",
   "mimetype": "text/x-python",
   "name": "python",
   "nbconvert_exporter": "python",
   "pygments_lexer": "ipython3",
   "version": "3.7.5"
  }
 },
 "nbformat": 4,
 "nbformat_minor": 5
}
