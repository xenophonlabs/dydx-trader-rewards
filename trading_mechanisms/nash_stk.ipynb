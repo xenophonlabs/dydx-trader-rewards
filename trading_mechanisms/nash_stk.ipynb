{
 "cells": [
  {
   "cell_type": "markdown",
   "metadata": {},
   "source": [
    "# End of Epoch Simulations\n",
    "\n",
    "Here are some simulations for how the end of the epoch will go. Here are some basic assumptions present here.\n",
    "1. All active traders are a part of this competition, i.e. they are going to pay an optimal amount in fees for rewards.\n",
    "2. Traders can be modeled as updating their expectation for the overall market summed trader score by using their old estimate of the total score and performing a learning update that incorporates a new estimate with their old estimate. In other words, we can model each participant as updating their expectations in parallel as the epoch draws to a close.\n",
    "3. The overal market participants' distribution of open interest follows an exponential distribution. This is an approximation, and in fact exponential distributions don't have quite fat enough of a tail in order to work here.\n",
    "4. Rational agents have access to infinite money. That is, they may adjust their fee-paying schedule to spend more than the amount they have in their collateral account. Practically, this is probably not the case. "
   ]
  },
  {
   "cell_type": "code",
   "execution_count": null,
   "metadata": {},
   "outputs": [],
   "source": [
    "import numpy as np\n",
    "import matplotlib.pyplot as plt\n",
    "\n",
    "from utils import *"
   ]
  },
  {
   "cell_type": "code",
   "execution_count": null,
   "metadata": {},
   "outputs": [],
   "source": [
    "R = 3_835_616 \n",
    "alpha = .01\n",
    "open_interest = 150_000_000"
   ]
  },
  {
   "cell_type": "code",
   "execution_count": null,
   "metadata": {},
   "outputs": [],
   "source": [
    "results = dict()\n",
    "slope = dict()\n",
    "\n",
    "for trial in range(5):\n",
    "    d_mkt, f_mkt, g_mkt = find_equilibrium_stk(open_interest, n=1000, G=5000, R=R, p=20, alpha=alpha, num_whales=1, whale_alpha=10)\n",
    "    results[trial] = sorted(list(zip(d_mkt, g_mkt, f_mkt)), key=lambda x : x[2]) \n",
    "    slope[trial] = sorted(list(zip(d_mkt**0.28 * g_mkt**0.05, f_mkt**0.33)), key=lambda x : x[1]) "
   ]
  },
  {
   "cell_type": "code",
   "execution_count": null,
   "id": "5cdd1672",
   "metadata": {},
   "outputs": [],
   "source": [
    "for trial in range(5):\n",
    "    plt.scatter(range(1000), [x[2]/x[0] for x in results[trial]])"
   ]
  }
 ],
 "metadata": {
  "kernelspec": {
   "display_name": "Python 3",
   "language": "python",
   "name": "python3"
  },
  "language_info": {
   "codemirror_mode": {
    "name": "ipython",
    "version": 3
   },
   "file_extension": ".py",
   "mimetype": "text/x-python",
   "name": "python",
   "nbconvert_exporter": "python",
   "pygments_lexer": "ipython3",
   "version": "3.7.5"
  }
 },
 "nbformat": 4,
 "nbformat_minor": 5
}
